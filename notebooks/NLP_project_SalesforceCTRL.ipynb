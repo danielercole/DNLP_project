{
 "cells": [
  {
   "cell_type": "markdown",
   "metadata": {
    "id": "IyPDkHG0ooEV"
   },
   "source": [
    "# Salesforce CTRL"
   ]
  },
  {
   "cell_type": "code",
   "execution_count": null,
   "metadata": {
    "colab": {
     "base_uri": "https://localhost:8080/"
    },
    "executionInfo": {
     "elapsed": 80279,
     "status": "ok",
     "timestamp": 1739558029729,
     "user": {
      "displayName": "PragProg",
      "userId": "02349458450504908371"
     },
     "user_tz": -60
    },
    "id": "TZp0BoBzoV8-",
    "outputId": "389041e8-4f73-4477-d542-00ff6f92b8bb"
   },
   "outputs": [],
   "source": [
    "!pip install transformers torch datasets bert-score comet_ml evaluate sacrebleu rouge_score"
   ]
  },
  {
   "cell_type": "code",
   "execution_count": null,
   "metadata": {
    "colab": {
     "base_uri": "https://localhost:8080/"
    },
    "executionInfo": {
     "elapsed": 23246,
     "status": "ok",
     "timestamp": 1739558055515,
     "user": {
      "displayName": "PragProg",
      "userId": "02349458450504908371"
     },
     "user_tz": -60
    },
    "id": "20C7yeYuowO7",
    "outputId": "a7ce0554-f0ba-43f5-8d73-c3330df9eddc"
   },
   "outputs": [],
   "source": [
    "from google.colab import drive\n",
    "drive.mount('/content/drive', force_remount=True)"
   ]
  },
  {
   "cell_type": "code",
   "execution_count": null,
   "metadata": {
    "colab": {
     "base_uri": "https://localhost:8080/"
    },
    "executionInfo": {
     "elapsed": 3,
     "status": "ok",
     "timestamp": 1739558056755,
     "user": {
      "displayName": "PragProg",
      "userId": "02349458450504908371"
     },
     "user_tz": -60
    },
    "id": "I0bZyvo4oxsr",
    "outputId": "60e857f9-c8fc-4978-a54c-d8ea274dc858"
   },
   "outputs": [],
   "source": [
    "%cd drive/MyDrive/TST-CycleGAN-main/"
   ]
  },
  {
   "cell_type": "markdown",
   "metadata": {
    "id": "gkSRdy7pPL84"
   },
   "source": [
    "# Testing"
   ]
  },
  {
   "cell_type": "code",
   "execution_count": null,
   "metadata": {
    "colab": {
     "base_uri": "https://localhost:8080/"
    },
    "executionInfo": {
     "elapsed": 181339,
     "status": "ok",
     "timestamp": 1739558612541,
     "user": {
      "displayName": "PragProg",
      "userId": "02349458450504908371"
     },
     "user_tz": -60
    },
    "id": "HfsYFX4tPg9E",
    "outputId": "aad8ec9b-5bfc-40a8-fe66-2fe94fd0b07e"
   },
   "outputs": [],
   "source": [
    "import subprocess\n",
    "\n",
    "command = [\n",
    "    \"python\",\n",
    "    \"testCTRL.py\",\n",
    "    \"--style_a=neg\",\n",
    "    \"--style_b=pos\",\n",
    "    \"--lang=en\",\n",
    "\n",
    "    \"--path_paral_A_test=./data/yelp/test.0.txt\",\n",
    "    \"--path_paral_B_test=./data/yelp/test.1.txt\",\n",
    "    \"--path_paral_test_ref=./data/yelp/references/test/\",\n",
    "\n",
    "    \"--pretrained_classifier_eval=ggallipoli/sentiment_classifier_yelp\",\n",
    "\n",
    "    \"--n_references=4\",\n",
    "    \"--batch_size=16\",\n",
    "    \"--pin_memory\",\n",
    "    \"--use_cuda_if_available\",\n",
    "\n",
    "    \"--comet_logging\",\n",
    "    \"--comet_key=???\",\n",
    "    \"--comet_workspace=???\",\n",
    "    \"--comet_project_name=???\"\n",
    "]\n",
    "\n",
    "result = subprocess.run(command, stdout=subprocess.PIPE, stderr=subprocess.PIPE, text=True)\n",
    "print(result.stdout)\n",
    "print(result.stderr)"
   ]
  }
 ],
 "metadata": {
  "accelerator": "GPU",
  "colab": {
   "authorship_tag": "ABX9TyNt4p1m1vTHveIkA4TrNE53",
   "collapsed_sections": [
    "_lX-B4UjPEPZ"
   ],
   "gpuType": "L4",
   "provenance": []
  },
  "kernelspec": {
   "display_name": "Python 3",
   "name": "python3"
  },
  "language_info": {
   "name": "python"
  }
 },
 "nbformat": 4,
 "nbformat_minor": 0
}
