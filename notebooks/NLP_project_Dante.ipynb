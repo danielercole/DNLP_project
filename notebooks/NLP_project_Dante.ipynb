{
 "cells": [
  {
   "cell_type": "code",
   "execution_count": null,
   "metadata": {
    "colab": {
     "base_uri": "https://localhost:8080/"
    },
    "collapsed": true,
    "executionInfo": {
     "elapsed": 82394,
     "status": "ok",
     "timestamp": 1739614167098,
     "user": {
      "displayName": "PragProg",
      "userId": "02349458450504908371"
     },
     "user_tz": -60
    },
    "id": "7Ngi0OFJEkdt",
    "outputId": "54237996-3a7f-46e6-bf94-d23cf87480a5"
   },
   "outputs": [],
   "source": [
    "!pip install transformers torch datasets bert-score comet_ml evaluate sacrebleu rouge_score"
   ]
  },
  {
   "cell_type": "code",
   "execution_count": null,
   "metadata": {
    "colab": {
     "base_uri": "https://localhost:8080/"
    },
    "executionInfo": {
     "elapsed": 30659,
     "status": "ok",
     "timestamp": 1739614197747,
     "user": {
      "displayName": "PragProg",
      "userId": "02349458450504908371"
     },
     "user_tz": -60
    },
    "id": "kOFqVRa2dxEa",
    "outputId": "5fe86452-8eba-426d-a972-336670ae5ac7"
   },
   "outputs": [],
   "source": [
    "from google.colab import drive\n",
    "drive.mount('/content/drive', force_remount=True)"
   ]
  },
  {
   "cell_type": "code",
   "execution_count": null,
   "metadata": {
    "colab": {
     "base_uri": "https://localhost:8080/"
    },
    "executionInfo": {
     "elapsed": 9,
     "status": "ok",
     "timestamp": 1739614197748,
     "user": {
      "displayName": "PragProg",
      "userId": "02349458450504908371"
     },
     "user_tz": -60
    },
    "id": "peeMuvuTdzMb",
    "outputId": "6332afb5-9eba-4380-956e-1ce8b9698eee"
   },
   "outputs": [],
   "source": [
    "%cd drive/MyDrive/TST-CycleGAN-main/"
   ]
  },
  {
   "cell_type": "markdown",
   "metadata": {
    "id": "dfmMFz_qeD8D"
   },
   "source": [
    "## Train style classifier"
   ]
  },
  {
   "cell_type": "code",
   "execution_count": null,
   "metadata": {
    "colab": {
     "base_uri": "https://localhost:8080/"
    },
    "executionInfo": {
     "elapsed": 334802,
     "status": "ok",
     "timestamp": 1739381793196,
     "user": {
      "displayName": "PragProg",
      "userId": "02349458450504908371"
     },
     "user_tz": -60
    },
    "id": "ePM9d8iveDTW",
    "outputId": "d9643eb8-be14-4ddd-9b45-9c2efa470e9b"
   },
   "outputs": [],
   "source": [
    "import subprocess\n",
    "\n",
    "import os\n",
    "os.environ[\"COMET_API_KEY\"] = \"???\"\n",
    "\n",
    "import wandb\n",
    "wandb.login(key=\"???\")\n",
    "\n",
    "\n",
    "# Define the command and its arguments\n",
    "command = [\n",
    "    \"python\",\n",
    "    \"utils/train_classifier.py\",\n",
    "\n",
    "    \"--dataset_path=./data/dante/\",\n",
    "    \"--model_tag=dbmdz/bert-base-italian-cased\",\n",
    "    \"--max_sequence_length=64\",\n",
    "    \"--batch_size=16\",\n",
    "    \"--learning_rate=5e-5\",\n",
    "    \"--epochs=5\",\n",
    "    \"--lr_scheduler_type=linear\",\n",
    "    \"--save_base_folder=./checkpoints/\",  # Base folder for saving checkpoints\n",
    "    \"--save_steps=100\",\n",
    "    \"--eval_strategy=epoch\",\n",
    "    \"--eval_steps=50\",\n",
    "    \"--use_cuda_if_available\",\n",
    "\n",
    "    \"--comet_logging\",\n",
    "    \"--comet_key=???\",\n",
    "    \"--comet_workspace=???\",\n",
    "    \"--comet_project_name=???\"\n",
    "]\n",
    "\n",
    "# Run the script using subprocess\n",
    "result = subprocess.run(command, stdout=subprocess.PIPE, stderr=subprocess.PIPE, text=True)\n",
    "\n",
    "# Print the output and errors\n",
    "print(\"Output:\")\n",
    "print(result.stdout)\n",
    "print(\"Errors:\")\n",
    "print(result.stderr)"
   ]
  },
  {
   "cell_type": "markdown",
   "metadata": {
    "id": "Zu-tA0YheKaF"
   },
   "source": [
    "## Train model"
   ]
  },
  {
   "cell_type": "code",
   "execution_count": null,
   "metadata": {
    "colab": {
     "base_uri": "https://localhost:8080/"
    },
    "executionInfo": {
     "elapsed": 3222728,
     "status": "ok",
     "timestamp": 1739617420469,
     "user": {
      "displayName": "PragProg",
      "userId": "02349458450504908371"
     },
     "user_tz": -60
    },
    "id": "QBNYx9naeMxQ",
    "outputId": "f8c29f4d-6f70-4242-a0c3-a604714d6043"
   },
   "outputs": [],
   "source": [
    "import subprocess\n",
    "import os\n",
    "os.environ[\"PYTORCH_CUDA_ALLOC_CONF\"] = \"expandable_segments:True\"\n",
    "\n",
    "\n",
    "command = [\n",
    "    \"python\",\n",
    "    \"train.py\",\n",
    "    \"--style_a=dante\",\n",
    "    \"--style_b=italiano\",\n",
    "    \"--lang=it\",\n",
    "\n",
    "    \"--path_mono_A=./data/dante/train.0.txt\",\n",
    "    \"--path_mono_B=./data/dante/train.1.txt\",\n",
    "    \"--path_paral_A_eval=./data/dante/dev.0.txt\",\n",
    "    \"--path_paral_B_eval=./data/dante/dev.1.txt\",\n",
    "    \"--path_paral_eval_ref=./data/dante/references/dev/\",\n",
    "    \"--n_references=1\",\n",
    "    \"--shuffle\",\n",
    "    \"--generator_model_tag=morenolq/bart-it\",\n",
    "    \"--discriminator_model_tag=dbmdz/bert-base-italian-cased\",\n",
    "    \"--pretrained_classifier_model=./classifiers/dante/\",\n",
    "    \"--lambdas=10|1|1|1|1\",\n",
    "    \"--epochs=5\",\n",
    "    \"--learning_rate=5e-5\",\n",
    "    \"--max_sequence_length=64\",\n",
    "    \"--batch_size=16\",\n",
    "    \"--save_base_folder=./ckpts/\",\n",
    "    \"--save_steps=1\",\n",
    "    \"--eval_strategy=epochs\",\n",
    "    \"--eval_steps=1\",\n",
    "    \"--pin_memory\",\n",
    "    \"--use_cuda_if_available\",\n",
    "\n",
    "    \"--comet_logging\",\n",
    "    \"--comet_key=???\",\n",
    "    \"--comet_workspace=???\",\n",
    "    \"--comet_project_name=???\"\n",
    "]\n",
    "\n",
    "result = subprocess.run(command, stdout=subprocess.PIPE, stderr=subprocess.PIPE, text=True)\n",
    "print(result.stdout)\n",
    "print(result.stderr)"
   ]
  },
  {
   "cell_type": "markdown",
   "metadata": {
    "id": "9SkdMAshDiKW"
   },
   "source": [
    "## Test model"
   ]
  },
  {
   "cell_type": "code",
   "execution_count": null,
   "metadata": {
    "colab": {
     "base_uri": "https://localhost:8080/"
    },
    "executionInfo": {
     "elapsed": 65981,
     "status": "ok",
     "timestamp": 1739617520590,
     "user": {
      "displayName": "PragProg",
      "userId": "02349458450504908371"
     },
     "user_tz": -60
    },
    "id": "leoyHHDuDrsz",
    "outputId": "52b0169a-55e6-492b-fca1-8781c0bd8efe"
   },
   "outputs": [],
   "source": [
    "import subprocess\n",
    "\n",
    "command = [\n",
    "    \"python\",\n",
    "    \"test.py\",\n",
    "    \"--style_a=dante\",\n",
    "    \"--style_b=italiano\",\n",
    "    \"--lang=it\",\n",
    "\n",
    "    \"--path_paral_A_test=./data/dante/test.0.txt\",\n",
    "    \"--path_paral_B_test=./data/dante/test.1.txt\",\n",
    "    \"--path_paral_test_ref=./data/dante/references/test/\",\n",
    "    \"--n_references=1\",\n",
    "    \"--generator_model_tag=morenolq/bart-it\",\n",
    "    \"--discriminator_model_tag=dbmdz/bert-base-italian-cased\",\n",
    "    \"--pretrained_classifier_eval=./classifiers/dante/\",\n",
    "    \"--from_pretrained=./ckpts/\",\n",
    "    \"--num_workers=2\",\n",
    "    \"--max_sequence_length=64\",\n",
    "    \"--batch_size=32\",\n",
    "    \"--pin_memory\",\n",
    "    \"--use_cuda_if_available\",\n",
    "\n",
    "    \"--comet_logging\",\n",
    "    \"--comet_key=???\",\n",
    "    \"--comet_workspace=???\",\n",
    "    \"--comet_project_name=???\"\n",
    "]\n",
    "\n",
    "result = subprocess.run(command, stdout=subprocess.PIPE, stderr=subprocess.PIPE, text=True)\n",
    "print(result.stdout)\n",
    "print(result.stderr)"
   ]
  }
 ],
 "metadata": {
  "colab": {
   "collapsed_sections": [
    "dfmMFz_qeD8D"
   ],
   "provenance": []
  },
  "kernelspec": {
   "display_name": "Python 3",
   "name": "python3"
  },
  "language_info": {
   "name": "python"
  }
 },
 "nbformat": 4,
 "nbformat_minor": 0
}
