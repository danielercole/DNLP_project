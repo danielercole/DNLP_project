{
 "cells": [
  {
   "cell_type": "code",
   "execution_count": null,
   "metadata": {
    "colab": {
     "base_uri": "https://localhost:8080/"
    },
    "collapsed": true,
    "executionInfo": {
     "elapsed": 81147,
     "status": "ok",
     "timestamp": 1739398475875,
     "user": {
      "displayName": "PragProg",
      "userId": "02349458450504908371"
     },
     "user_tz": -60
    },
    "id": "7Ngi0OFJEkdt",
    "outputId": "e5b55a5d-95b6-4806-b279-3fc57eb944c1"
   },
   "outputs": [],
   "source": [
    "!pip install transformers torch datasets bert-score comet_ml evaluate sacrebleu rouge_score"
   ]
  },
  {
   "cell_type": "code",
   "execution_count": null,
   "metadata": {
    "colab": {
     "base_uri": "https://localhost:8080/"
    },
    "executionInfo": {
     "elapsed": 21604,
     "status": "ok",
     "timestamp": 1739398502490,
     "user": {
      "displayName": "PragProg",
      "userId": "02349458450504908371"
     },
     "user_tz": -60
    },
    "id": "kOFqVRa2dxEa",
    "outputId": "a3c740f9-756b-485e-b691-d0408f3f588a"
   },
   "outputs": [],
   "source": [
    "from google.colab import drive\n",
    "drive.mount('/content/drive', force_remount=True)"
   ]
  },
  {
   "cell_type": "code",
   "execution_count": null,
   "metadata": {
    "colab": {
     "base_uri": "https://localhost:8080/"
    },
    "executionInfo": {
     "elapsed": 857,
     "status": "ok",
     "timestamp": 1739398504743,
     "user": {
      "displayName": "PragProg",
      "userId": "02349458450504908371"
     },
     "user_tz": -60
    },
    "id": "peeMuvuTdzMb",
    "outputId": "4c27ab19-a57f-490a-f9d0-ab14d77856ff"
   },
   "outputs": [],
   "source": [
    "%cd /content/drive/MyDrive/TST-CycleGAN-main/"
   ]
  },
  {
   "cell_type": "markdown",
   "metadata": {
    "id": "Zu-tA0YheKaF"
   },
   "source": [
    "## Train model"
   ]
  },
  {
   "cell_type": "code",
   "execution_count": null,
   "metadata": {
    "colab": {
     "base_uri": "https://localhost:8080/",
     "height": 365
    },
    "executionInfo": {
     "elapsed": 2535433,
     "status": "error",
     "timestamp": 1739401044286,
     "user": {
      "displayName": "PragProg",
      "userId": "02349458450504908371"
     },
     "user_tz": -60
    },
    "id": "QBNYx9naeMxQ",
    "outputId": "a22d3cd2-7092-449e-eff5-b5c011d67e14"
   },
   "outputs": [],
   "source": [
    "import subprocess\n",
    "import os\n",
    "os.environ[\"PYTORCH_CUDA_ALLOC_CONF\"] = \"expandable_segments:True\"\n",
    "\n",
    "\n",
    "command = [\n",
    "    \"python\",\n",
    "    \"trainDO.py\",\n",
    "    \"--style_a=informal\",\n",
    "    \"--style_b=formal\",\n",
    "    \"--lang=en\",\n",
    "\n",
    "    \"--path_mono_A=./data/GYAFC/family_relationships/train.0.txt\",\n",
    "    \"--path_mono_B=./data/GYAFC/family_relationships/train.1.txt\",\n",
    "    \"--path_paral_A_eval=./data/GYAFC/family_relationships/dev.0.txt\",\n",
    "    \"--path_paral_B_eval=./data/GYAFC/family_relationships/dev.1.txt\",\n",
    "    \"--path_paral_eval_ref=./data/GYAFC/family_relationships/references/dev/\",\n",
    "    \"--n_references=4\",\n",
    "    \"--shuffle\",\n",
    "    \"--generator_model_tag=vicgalle/gpt2-open-instruct-v1\",\n",
    "    \"--discriminator_model_tag=distilbert-base-cased\",\n",
    "    \"--pretrained_classifier_model=./classifiers/GYAFC/family_relationships/formality_classifier_gyafc_family/\",\n",
    "    \"--lambdas=10|1|1|1|1\",\n",
    "    \"--epochs=5\",\n",
    "    \"--learning_rate=5e-5\",\n",
    "    \"--max_sequence_length=256\",\n",
    "    \"--batch_size=8\",\n",
    "    \"--save_base_folder=./ckpts/\",\n",
    "    \"--save_steps=1\",\n",
    "    \"--eval_strategy=epochs\",\n",
    "    \"--eval_steps=1\",\n",
    "    \"--pin_memory\",\n",
    "    \"--use_cuda_if_available\",\n",
    "\n",
    "    \"--comet_logging\",\n",
    "    \"--comet_key=???\",\n",
    "    \"--comet_workspace=???\",\n",
    "    \"--comet_project_name=???\"\n",
    "]\n",
    "\n",
    "# Esegui il comando e stampa l'output\n",
    "result = subprocess.run(command, stdout=subprocess.PIPE, stderr=subprocess.PIPE, text=True)\n",
    "print(result.stdout)\n",
    "print(result.stderr)"
   ]
  },
  {
   "cell_type": "markdown",
   "metadata": {
    "id": "9SkdMAshDiKW"
   },
   "source": [
    "## Test model"
   ]
  },
  {
   "cell_type": "code",
   "execution_count": null,
   "metadata": {
    "id": "leoyHHDuDrsz"
   },
   "outputs": [],
   "source": [
    "import subprocess\n",
    "\n",
    "command = [\n",
    "    \"python\",\n",
    "    \"testDO.py\",\n",
    "    \"--style_a=informal\",\n",
    "    \"--style_b=formal\",\n",
    "    \"--lang=en\",\n",
    "\n",
    "    \"--path_paral_A_test=./data/GYAFC/family_relationships/test.0.txt\",\n",
    "    \"--path_paral_B_test=./data/GYAFC/family_relationships/test.1.txt\",\n",
    "    \"--path_paral_test_ref=./data/GYAFC/family_relationships/references/test/\",\n",
    "    \"--n_references=4\",\n",
    "    \"--generator_model_tag=vicgalle/gpt2-open-instruct-v1\",\n",
    "    \"--discriminator_model_tag=distilbert-base-cased\",\n",
    "    \"--pretrained_classifier_eval=./classifiers/GYAFC/family_relationships/formality_classifier_gyafc_family/\",\n",
    "    \"--from_pretrained=./ckpts/\",\n",
    "    \"--num_workers=2\",\n",
    "    \"--max_sequence_length=256\",\n",
    "    \"--batch_size=8\",\n",
    "    \"--pin_memory\",\n",
    "    \"--use_cuda_if_available\",\n",
    "\n",
    "    \"--comet_logging\",\n",
    "    \"--comet_key=???\",\n",
    "    \"--comet_workspace=???\",\n",
    "    \"--comet_project_name=???\"\n",
    "]\n",
    "\n",
    "# Esegui il comando e stampa l'output\n",
    "result = subprocess.run(command, stdout=subprocess.PIPE, stderr=subprocess.PIPE, text=True)\n",
    "print(result.stdout)\n",
    "print(result.stderr)"
   ]
  }
 ],
 "metadata": {
  "accelerator": "GPU",
  "colab": {
   "collapsed_sections": [
    "9SkdMAshDiKW"
   ],
   "gpuType": "L4",
   "provenance": []
  },
  "kernelspec": {
   "display_name": "Python 3",
   "name": "python3"
  },
  "language_info": {
   "name": "python"
  }
 },
 "nbformat": 4,
 "nbformat_minor": 0
}
