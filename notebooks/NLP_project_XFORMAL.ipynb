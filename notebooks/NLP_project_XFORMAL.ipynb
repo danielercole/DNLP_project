{
 "cells": [
  {
   "cell_type": "code",
   "execution_count": null,
   "metadata": {
    "colab": {
     "base_uri": "https://localhost:8080/"
    },
    "collapsed": true,
    "executionInfo": {
     "elapsed": 104746,
     "status": "ok",
     "timestamp": 1739540898599,
     "user": {
      "displayName": "davide fassio",
      "userId": "12750439555788107505"
     },
     "user_tz": -60
    },
    "id": "7Ngi0OFJEkdt",
    "outputId": "b19396a8-c3b5-40a0-bd96-7c14e02b91e4"
   },
   "outputs": [],
   "source": [
    "!pip install transformers torch datasets bert-score comet_ml evaluate sacrebleu rouge_score"
   ]
  },
  {
   "cell_type": "code",
   "execution_count": null,
   "metadata": {
    "colab": {
     "base_uri": "https://localhost:8080/"
    },
    "executionInfo": {
     "elapsed": 16133,
     "status": "ok",
     "timestamp": 1739540917629,
     "user": {
      "displayName": "davide fassio",
      "userId": "12750439555788107505"
     },
     "user_tz": -60
    },
    "id": "kOFqVRa2dxEa",
    "outputId": "c71ef476-0bac-4bc5-b752-f9d081587e2f"
   },
   "outputs": [],
   "source": [
    "from google.colab import drive\n",
    "drive.mount('/content/drive', force_remount=True)"
   ]
  },
  {
   "cell_type": "code",
   "execution_count": null,
   "metadata": {
    "colab": {
     "base_uri": "https://localhost:8080/"
    },
    "executionInfo": {
     "elapsed": 386,
     "status": "ok",
     "timestamp": 1739540919119,
     "user": {
      "displayName": "davide fassio",
      "userId": "12750439555788107505"
     },
     "user_tz": -60
    },
    "id": "peeMuvuTdzMb",
    "outputId": "7008cfec-6834-4439-f0e5-62e4e7156176"
   },
   "outputs": [],
   "source": [
    "%cd /content/drive/MyDrive/TST-CycleGAN-main/"
   ]
  },
  {
   "cell_type": "markdown",
   "metadata": {
    "id": "dfmMFz_qeD8D"
   },
   "source": [
    "## Train style classifier"
   ]
  },
  {
   "cell_type": "code",
   "execution_count": null,
   "metadata": {
    "colab": {
     "base_uri": "https://localhost:8080/"
    },
    "executionInfo": {
     "elapsed": 2306159,
     "status": "ok",
     "timestamp": 1739460255559,
     "user": {
      "displayName": "PragProg",
      "userId": "02349458450504908371"
     },
     "user_tz": -60
    },
    "id": "ePM9d8iveDTW",
    "outputId": "bb4f299e-1c25-425c-e082-c4cdef57fc89"
   },
   "outputs": [],
   "source": [
    "import subprocess\n",
    "\n",
    "import os\n",
    "os.environ[\"COMET_API_KEY\"] = \"???\"\n",
    "\n",
    "import wandb\n",
    "wandb.login(key=\"???\")\n",
    "\n",
    "\n",
    "# Define the command and its arguments\n",
    "command = [\n",
    "    \"python\",\n",
    "    \"utils/train_classifier.py\",\n",
    "\n",
    "    \"--dataset_path=./data/XFORMAL/family_relationships/\",\n",
    "    \"--model_tag=dbmdz/bert-base-italian-cased\",\n",
    "    \"--max_sequence_length=64\",\n",
    "    \"--batch_size=16\",\n",
    "    \"--learning_rate=5e-5\",\n",
    "    \"--epochs=5\",\n",
    "    \"--lr_scheduler_type=linear\",\n",
    "    \"--save_base_folder=./checkpoints/\",  # Base folder for saving checkpoints\n",
    "    \"--save_steps=100\",\n",
    "    \"--eval_strategy=epoch\",\n",
    "    \"--eval_steps=50\",\n",
    "    \"--use_cuda_if_available\",\n",
    "\n",
    "    \"--comet_logging\",\n",
    "    \"--comet_key=???\",\n",
    "    \"--comet_workspace=???\",\n",
    "    \"--comet_project_name=???\"\n",
    "]\n",
    "\n",
    "# Run the script using subprocess\n",
    "result = subprocess.run(command, stdout=subprocess.PIPE, stderr=subprocess.PIPE, text=True)\n",
    "\n",
    "# Print the output and errors\n",
    "print(\"Output:\")\n",
    "print(result.stdout)\n",
    "print(\"Errors:\")\n",
    "print(result.stderr)"
   ]
  },
  {
   "cell_type": "markdown",
   "metadata": {
    "id": "Zu-tA0YheKaF"
   },
   "source": [
    "## Train model"
   ]
  },
  {
   "cell_type": "code",
   "execution_count": null,
   "metadata": {
    "colab": {
     "base_uri": "https://localhost:8080/",
     "output_embedded_package_id": "1fo1XEgW3n7mZ0jhNVCaml0pfU2LZflGN"
    },
    "executionInfo": {
     "elapsed": 12923334,
     "status": "ok",
     "timestamp": 1739485925104,
     "user": {
      "displayName": "PragProg",
      "userId": "02349458450504908371"
     },
     "user_tz": -60
    },
    "id": "QBNYx9naeMxQ",
    "outputId": "1eddb992-925d-48f6-f8a2-db4a701d3b48"
   },
   "outputs": [],
   "source": [
    "import subprocess\n",
    "import os\n",
    "os.environ[\"PYTORCH_CUDA_ALLOC_CONF\"] = \"expandable_segments:True\"\n",
    "\n",
    "\n",
    "command = [\n",
    "    \"python\",\n",
    "    \"train.py\",\n",
    "    \"--style_a=informal\",\n",
    "    \"--style_b=formal\",\n",
    "    \"--lang=it\",\n",
    "\n",
    "    \"--path_mono_A=./data/XFORMAL/family_relationships/train.0.txt\",\n",
    "    \"--path_mono_B=./data/XFORMAL/family_relationships/train.1.txt\",\n",
    "    \"--path_paral_A_eval=./data/XFORMAL/family_relationships/dev.0.txt\",\n",
    "    \"--path_paral_B_eval=./data/XFORMAL/family_relationships/dev.1.txt\",\n",
    "    \"--path_paral_eval_ref=./data/XFORMAL/family_relationships/references/dev/\",\n",
    "    \"--n_references=4\",\n",
    "    \"--shuffle\",\n",
    "    \"--generator_model_tag=morenolq/bart-it\",\n",
    "    \"--discriminator_model_tag=dbmdz/bert-base-italian-cased\",\n",
    "    \"--pretrained_classifier_model=./classifiers/XFORMAL/\",\n",
    "    \"--lambdas=10|1|1|1|1\",\n",
    "    \"--epochs=5\",\n",
    "    \"--learning_rate=5e-5\",\n",
    "    \"--max_sequence_length=64\",\n",
    "    \"--batch_size=32\",\n",
    "    \"--save_base_folder=./ckpts/\",\n",
    "    \"--save_steps=1\",\n",
    "    \"--eval_strategy=epochs\",\n",
    "    \"--eval_steps=1\",\n",
    "    \"--pin_memory\",\n",
    "    \"--use_cuda_if_available\",\n",
    "\n",
    "    \"--comet_logging\",\n",
    "    \"--comet_key=???\",\n",
    "    \"--comet_workspace=???\",\n",
    "    \"--comet_project_name=???\"\n",
    "]\n",
    "\n",
    "result = subprocess.run(command, stdout=subprocess.PIPE, stderr=subprocess.PIPE, text=True)\n",
    "print(result.stdout)\n",
    "print(result.stderr)"
   ]
  },
  {
   "cell_type": "markdown",
   "metadata": {
    "id": "9SkdMAshDiKW"
   },
   "source": [
    "## Test model"
   ]
  },
  {
   "cell_type": "code",
   "execution_count": null,
   "metadata": {
    "colab": {
     "base_uri": "https://localhost:8080/",
     "height": 418
    },
    "executionInfo": {
     "elapsed": 110905,
     "status": "error",
     "timestamp": 1739541561786,
     "user": {
      "displayName": "davide fassio",
      "userId": "12750439555788107505"
     },
     "user_tz": -60
    },
    "id": "leoyHHDuDrsz",
    "outputId": "7b770151-88e9-4eb8-bd8d-6abe14f33177"
   },
   "outputs": [],
   "source": [
    "import subprocess\n",
    "\n",
    "command = [\n",
    "    \"python\",\n",
    "    \"test.py\",\n",
    "    \"--style_a=informal\",\n",
    "    \"--style_b=formal\",\n",
    "    \"--lang=it\",\n",
    "\n",
    "    \"--path_paral_A_test=./data/XFORMAL/family_relationships/test.0.txt\",\n",
    "    \"--path_paral_B_test=./data/XFORMAL/family_relationships/test.1.txt\",\n",
    "    \"--path_paral_test_ref=./data/XFORMAL/family_relationships/references/test/\",\n",
    "    \"--n_references=4\",\n",
    "    \"--generator_model_tag=morenolq/bart-it\",\n",
    "    \"--discriminator_model_tag=dbmdz/bert-base-italian-cased\",\n",
    "    \"--pretrained_classifier_eval=./classifiers/XFORMAL/\",\n",
    "    \"--from_pretrained=./ckpts/\",\n",
    "    \"--num_workers=2\",\n",
    "    \"--max_sequence_length=64\",\n",
    "    \"--batch_size=16\",\n",
    "    \"--pin_memory\",\n",
    "    \"--use_cuda_if_available\",\n",
    "\n",
    "    \"--comet_logging\",\n",
    "    \"--comet_key=???\",\n",
    "    \"--comet_workspace=???\",\n",
    "    \"--comet_project_name=???\"\n",
    "]\n",
    "\n",
    "result = subprocess.run(command, stdout=subprocess.PIPE, stderr=subprocess.PIPE, text=True)\n",
    "print(result.stdout)\n",
    "print(result.stderr)"
   ]
  }
 ],
 "metadata": {
  "accelerator": "GPU",
  "colab": {
   "collapsed_sections": [
    "dfmMFz_qeD8D",
    "Zu-tA0YheKaF"
   ],
   "gpuType": "T4",
   "provenance": []
  },
  "kernelspec": {
   "display_name": "Python 3",
   "name": "python3"
  },
  "language_info": {
   "name": "python"
  }
 },
 "nbformat": 4,
 "nbformat_minor": 0
}
